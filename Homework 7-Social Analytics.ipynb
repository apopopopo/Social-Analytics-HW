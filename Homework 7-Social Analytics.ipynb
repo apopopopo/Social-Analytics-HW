{
 "cells": [
  {
   "cell_type": "markdown",
   "metadata": {},
   "source": [
    "# Background"
   ]
  },
  {
   "cell_type": "markdown",
   "metadata": {},
   "source": [
    "__Twitter__ has become a wildly sprawling jungle of information&mdash;140 characters at a time. Somewhere between 350 million and 500 million tweets are estimated to be sent out _per day_. With such an explosion of data, on Twitter and elsewhere, it becomes more important than ever to tame it in some way, to concisely capture the essence of the data.\n",
    "\n",
    "\n",
    "## News Mood\n",
    "\n",
    "In this assignment, you'll create a Python script to perform a sentiment analysis of the Twitter activity of various news oulets, and to present your findings visually.\n",
    "\n",
    "Your final output should provide a visualized summary of the sentiments expressed in Tweets sent out by the following news organizations: __BBC, CBS, CNN, Fox, and New York times__.\n",
    "\n",
    "The first plot will be and/or feature the following:\n",
    "\n",
    "* Be a scatter plot of sentiments of the last __100__ tweets sent out by each news organization, ranging from -1.0 to 1.0, where a score of 0 expresses a neutral sentiment, -1 the most negative sentiment possible, and +1 the most positive sentiment possible.\n",
    "* Each plot point will reflect the _compound_ sentiment of a tweet.\n",
    "* Sort each plot point by its relative timestamp.\n",
    "\n",
    "The second plot will be a bar plot visualizing the _overall_ sentiments of the last 100 tweets from each organization. For this plot, you will again aggregate the compound sentiments analyzed by VADER.\n",
    "\n",
    "The tools of the trade you will need for your task as a data analyst include the following: tweepy, pandas, matplotlib, seaborn, textblob, and VADER.\n",
    "\n",
    "Your final Jupyter notebook must:\n",
    "\n",
    "* Pull last 100 tweets from each outlet.\n",
    "* Perform a sentiment analysis with the compound, positive, neutral, and negative scoring for each tweet. \n",
    "* Pull into a DataFrame the tweet's source acount, its text, its date, and its compound, positive, neutral, and negative sentiment scores.\n",
    "* Export the data in the DataFrame into a CSV file.\n",
    "* Save PNG images for each plot.\n",
    "\n",
    "As final considerations:\n",
    "\n",
    "* Use the Matplotlib and Seaborn libraries.\n",
    "* Include a written description of three observable trends based on the data. \n",
    "* Include proper labeling of your plots, including plot titles (with date of analysis) and axes labels.\n",
    "* Include an exported markdown version of your Notebook called  `README.md` in your GitHub repository.  "
   ]
  },
  {
   "cell_type": "code",
   "execution_count": 4,
   "metadata": {
    "collapsed": true
   },
   "outputs": [],
   "source": [
    "# Dependencies\n",
    "%matplotlib inline\n",
    "import numpy as np\n",
    "import pandas as pd\n",
    "import matplotlib.pyplot as plt\n",
    "import json\n",
    "import tweepy\n",
    "import time\n",
    "\n",
    "\n",
    "# Initialize Sentiment Analyzer \n",
    "from vaderSentiment.vaderSentiment import SentimentIntensityAnalyzer\n",
    "analyzer = SentimentIntensityAnalyzer()"
   ]
  },
  {
   "cell_type": "code",
   "execution_count": 5,
   "metadata": {
    "collapsed": true
   },
   "outputs": [],
   "source": [
    "# Twitter API Keys\n",
    "consumer_key = 'ULYNrC0gPeFqgmsQTftVHLgn9'\n",
    "consumer_secret = 'oXSq3nD1Wvjib4QTYed6EmbmG8nIQ16q8ZwGCLqsGXiJepfMYS'\n",
    "access_token = '974846597581365249-3XiLsYvAZJwq1z9U9fkNIpZXSI9Z96E'\n",
    "access_token_secret = 'jPdcYhkI7MdeKZYPdDcaLiHrRV51pGUk6bxN0rs37N8m4'\n",
    "\n",
    "# Setup Tweepy API Authentication\n",
    "auth = tweepy.OAuthHandler(consumer_key, consumer_secret)\n",
    "auth.set_access_token(access_token, access_token_secret)\n",
    "api = tweepy.API(auth, parser=tweepy.parsers.JSONParser())"
   ]
  },
  {
   "cell_type": "code",
   "execution_count": 14,
   "metadata": {
    "collapsed": true
   },
   "outputs": [],
   "source": [
    "# list of users\n",
    "users = [\"FoxNews\", \"CNN\", \"BBCWorld\", \"CBSNews\", \"nytimes\"]\n",
    "\n",
    "# outputs 100 tweets\n",
    "tweet_data = {\"source\": [], \n",
    "              \"tweet_text\": [], \n",
    "              \"date\": [],\n",
    "              \"compound\": [], \n",
    "              \"positive\": [], \n",
    "              \"negative\": [], \n",
    "              \"neutral\": []}\n",
    "\n",
    "# loop through latest 5 pages of twitter\n",
    "for x in range(5):\n",
    "    \n",
    "    # loop through each user\n",
    "    for user in users: \n",
    "        tweets = api.user_timeline(user, page=x)\n",
    "    \n",
    "    # loop through the 20 tweets per page and save text info\n",
    "        for tweet in tweets:\n",
    "            tweet_data[\"source\"].append(user)\n",
    "            tweet_data[\"tweet_text\"].append(tweet[\"text\"])\n",
    "            tweet_data[\"date\"].append(tweet[\"created_at\"])\n",
    "        \n",
    "            #calculate for polarity scores\n",
    "            compound = analyzer.polarity_scores(tweet[\"text\"])[\"compound\"]\n",
    "            pos = analyzer.polarity_scores(tweet[\"text\"])[\"pos\"]\n",
    "            neg = analyzer.polarity_scores(tweet[\"text\"])[\"neg\"]\n",
    "            neu = analyzer.polarity_scores(tweet[\"text\"])[\"neu\"]\n",
    "        \n",
    "            # saves info into lists\n",
    "            tweet_data[\"compound\"].append(compound)\n",
    "            tweet_data[\"positive\"].append(pos)\n",
    "            tweet_data[\"negative\"].append(neg)\n",
    "            tweet_data[\"neutral\"].append(neu)"
   ]
  },
  {
   "cell_type": "code",
   "execution_count": 31,
   "metadata": {},
   "outputs": [
    {
     "data": {
      "text/html": [
       "<div>\n",
       "<style>\n",
       "    .dataframe thead tr:only-child th {\n",
       "        text-align: right;\n",
       "    }\n",
       "\n",
       "    .dataframe thead th {\n",
       "        text-align: left;\n",
       "    }\n",
       "\n",
       "    .dataframe tbody tr th {\n",
       "        vertical-align: top;\n",
       "    }\n",
       "</style>\n",
       "<table border=\"1\" class=\"dataframe\">\n",
       "  <thead>\n",
       "    <tr style=\"text-align: right;\">\n",
       "      <th></th>\n",
       "      <th>compound</th>\n",
       "      <th>date</th>\n",
       "      <th>negative</th>\n",
       "      <th>neutral</th>\n",
       "      <th>positive</th>\n",
       "      <th>source</th>\n",
       "      <th>tweet_text</th>\n",
       "    </tr>\n",
       "  </thead>\n",
       "  <tbody>\n",
       "    <tr>\n",
       "      <th>0</th>\n",
       "      <td>0.0000</td>\n",
       "      <td>Thu Mar 29 17:51:53 +0000 2018</td>\n",
       "      <td>0.000</td>\n",
       "      <td>1.000</td>\n",
       "      <td>0.000</td>\n",
       "      <td>FoxNews</td>\n",
       "      <td>'Serial Stowaway' deemed unfit to stand trial ...</td>\n",
       "    </tr>\n",
       "    <tr>\n",
       "      <th>1</th>\n",
       "      <td>0.0000</td>\n",
       "      <td>Thu Mar 29 17:51:43 +0000 2018</td>\n",
       "      <td>0.000</td>\n",
       "      <td>1.000</td>\n",
       "      <td>0.000</td>\n",
       "      <td>FoxNews</td>\n",
       "      <td>Graphic sex video causes juror to faint during...</td>\n",
       "    </tr>\n",
       "    <tr>\n",
       "      <th>2</th>\n",
       "      <td>0.5859</td>\n",
       "      <td>Thu Mar 29 17:46:39 +0000 2018</td>\n",
       "      <td>0.115</td>\n",
       "      <td>0.573</td>\n",
       "      <td>0.312</td>\n",
       "      <td>FoxNews</td>\n",
       "      <td>Missing Georgia teen, 15, rescued after family...</td>\n",
       "    </tr>\n",
       "    <tr>\n",
       "      <th>3</th>\n",
       "      <td>0.0000</td>\n",
       "      <td>Thu Mar 29 17:44:51 +0000 2018</td>\n",
       "      <td>0.000</td>\n",
       "      <td>1.000</td>\n",
       "      <td>0.000</td>\n",
       "      <td>FoxNews</td>\n",
       "      <td>.@RepJoeWilson: \"What Putin is doing is he's t...</td>\n",
       "    </tr>\n",
       "    <tr>\n",
       "      <th>4</th>\n",
       "      <td>-0.4404</td>\n",
       "      <td>Thu Mar 29 17:43:24 +0000 2018</td>\n",
       "      <td>0.225</td>\n",
       "      <td>0.775</td>\n",
       "      <td>0.000</td>\n",
       "      <td>FoxNews</td>\n",
       "      <td>Stormy Daniels' motion to depose Trump, Cohen ...</td>\n",
       "    </tr>\n",
       "  </tbody>\n",
       "</table>\n",
       "</div>"
      ],
      "text/plain": [
       "   compound                            date  negative  neutral  positive  \\\n",
       "0    0.0000  Thu Mar 29 17:51:53 +0000 2018     0.000    1.000     0.000   \n",
       "1    0.0000  Thu Mar 29 17:51:43 +0000 2018     0.000    1.000     0.000   \n",
       "2    0.5859  Thu Mar 29 17:46:39 +0000 2018     0.115    0.573     0.312   \n",
       "3    0.0000  Thu Mar 29 17:44:51 +0000 2018     0.000    1.000     0.000   \n",
       "4   -0.4404  Thu Mar 29 17:43:24 +0000 2018     0.225    0.775     0.000   \n",
       "\n",
       "    source                                         tweet_text  \n",
       "0  FoxNews  'Serial Stowaway' deemed unfit to stand trial ...  \n",
       "1  FoxNews  Graphic sex video causes juror to faint during...  \n",
       "2  FoxNews  Missing Georgia teen, 15, rescued after family...  \n",
       "3  FoxNews  .@RepJoeWilson: \"What Putin is doing is he's t...  \n",
       "4  FoxNews  Stormy Daniels' motion to depose Trump, Cohen ...  "
      ]
     },
     "execution_count": 31,
     "metadata": {},
     "output_type": "execute_result"
    }
   ],
   "source": [
    "df=pd.DataFrame(tweet_data)\n",
    "df.head()"
   ]
  },
  {
   "cell_type": "code",
   "execution_count": 24,
   "metadata": {},
   "outputs": [
    {
     "data": {
      "text/html": [
       "<div>\n",
       "<style>\n",
       "    .dataframe thead tr:only-child th {\n",
       "        text-align: right;\n",
       "    }\n",
       "\n",
       "    .dataframe thead th {\n",
       "        text-align: left;\n",
       "    }\n",
       "\n",
       "    .dataframe tbody tr th {\n",
       "        vertical-align: top;\n",
       "    }\n",
       "</style>\n",
       "<table border=\"1\" class=\"dataframe\">\n",
       "  <thead>\n",
       "    <tr style=\"text-align: right;\">\n",
       "      <th></th>\n",
       "      <th>compound</th>\n",
       "      <th>date</th>\n",
       "      <th>negative</th>\n",
       "      <th>neutral</th>\n",
       "      <th>positive</th>\n",
       "      <th>source</th>\n",
       "      <th>tweet_text</th>\n",
       "    </tr>\n",
       "  </thead>\n",
       "  <tbody>\n",
       "    <tr>\n",
       "      <th>0</th>\n",
       "      <td>0.0000</td>\n",
       "      <td>2018-03-29 17:51:53</td>\n",
       "      <td>0.000</td>\n",
       "      <td>1.000</td>\n",
       "      <td>0.000</td>\n",
       "      <td>FoxNews</td>\n",
       "      <td>'Serial Stowaway' deemed unfit to stand trial ...</td>\n",
       "    </tr>\n",
       "    <tr>\n",
       "      <th>1</th>\n",
       "      <td>0.0000</td>\n",
       "      <td>2018-03-29 17:51:43</td>\n",
       "      <td>0.000</td>\n",
       "      <td>1.000</td>\n",
       "      <td>0.000</td>\n",
       "      <td>FoxNews</td>\n",
       "      <td>Graphic sex video causes juror to faint during...</td>\n",
       "    </tr>\n",
       "    <tr>\n",
       "      <th>2</th>\n",
       "      <td>0.5859</td>\n",
       "      <td>2018-03-29 17:46:39</td>\n",
       "      <td>0.115</td>\n",
       "      <td>0.573</td>\n",
       "      <td>0.312</td>\n",
       "      <td>FoxNews</td>\n",
       "      <td>Missing Georgia teen, 15, rescued after family...</td>\n",
       "    </tr>\n",
       "    <tr>\n",
       "      <th>3</th>\n",
       "      <td>0.0000</td>\n",
       "      <td>2018-03-29 17:44:51</td>\n",
       "      <td>0.000</td>\n",
       "      <td>1.000</td>\n",
       "      <td>0.000</td>\n",
       "      <td>FoxNews</td>\n",
       "      <td>.@RepJoeWilson: \"What Putin is doing is he's t...</td>\n",
       "    </tr>\n",
       "    <tr>\n",
       "      <th>4</th>\n",
       "      <td>-0.4404</td>\n",
       "      <td>2018-03-29 17:43:24</td>\n",
       "      <td>0.225</td>\n",
       "      <td>0.775</td>\n",
       "      <td>0.000</td>\n",
       "      <td>FoxNews</td>\n",
       "      <td>Stormy Daniels' motion to depose Trump, Cohen ...</td>\n",
       "    </tr>\n",
       "  </tbody>\n",
       "</table>\n",
       "</div>"
      ],
      "text/plain": [
       "   compound                date  negative  neutral  positive   source  \\\n",
       "0    0.0000 2018-03-29 17:51:53     0.000    1.000     0.000  FoxNews   \n",
       "1    0.0000 2018-03-29 17:51:43     0.000    1.000     0.000  FoxNews   \n",
       "2    0.5859 2018-03-29 17:46:39     0.115    0.573     0.312  FoxNews   \n",
       "3    0.0000 2018-03-29 17:44:51     0.000    1.000     0.000  FoxNews   \n",
       "4   -0.4404 2018-03-29 17:43:24     0.225    0.775     0.000  FoxNews   \n",
       "\n",
       "                                          tweet_text  \n",
       "0  'Serial Stowaway' deemed unfit to stand trial ...  \n",
       "1  Graphic sex video causes juror to faint during...  \n",
       "2  Missing Georgia teen, 15, rescued after family...  \n",
       "3  .@RepJoeWilson: \"What Putin is doing is he's t...  \n",
       "4  Stormy Daniels' motion to depose Trump, Cohen ...  "
      ]
     },
     "execution_count": 24,
     "metadata": {},
     "output_type": "execute_result"
    }
   ],
   "source": [
    "df[\"date\"]=pd.to_datetime(df[\"date\"])\n",
    "df.head()\n"
   ]
  },
  {
   "cell_type": "code",
   "execution_count": 26,
   "metadata": {
    "collapsed": true
   },
   "outputs": [],
   "source": [
    "# Export the data in the DataFrame into a CSV file\n",
    "df.to_csv(\"twitter sentiment data\", sep =\",\")"
   ]
  },
  {
   "cell_type": "code",
   "execution_count": 29,
   "metadata": {},
   "outputs": [
    {
     "data": {
      "image/png": "[encoded data removed]",
      "text/plain": [
       "<matplotlib.figure.Figure at 0x10dbd5128>"
      ]
     },
     "metadata": {},
     "output_type": "display_data"
    }
   ],
   "source": [
    "# make matplotlib visualizations\n",
    "date=tweet[\"created_at\"]\n",
    "plt.scatter(date,compound )\n",
    "plt.grid(True)\n",
    "plt.title(\"Sentiment Analysis of Media Tweets\")\n",
    "plt.xlabel(\"Tweets Ago\")\n",
    "plt.ylabel(\"Tweets Polarity\")\n",
    "plt.savefig(\"output1.png\")"
   ]
  },
  {
   "cell_type": "code",
   "execution_count": null,
   "metadata": {
    "collapsed": true
   },
   "outputs": [],
   "source": []
  }
 ],
 "metadata": {
  "kernelspec": {
   "display_name": "Python (PythonData)",
   "language": "python",
   "name": "pythondata"
  },
  "language_info": {
   "codemirror_mode": {
    "name": "ipython",
    "version": 3
   },
   "file_extension": ".py",
   "mimetype": "text/x-python",
   "name": "python",
   "nbconvert_exporter": "python",
   "pygments_lexer": "ipython3",
   "version": "3.6.3"
  }
 },
 "nbformat": 4,
 "nbformat_minor": 2
}
